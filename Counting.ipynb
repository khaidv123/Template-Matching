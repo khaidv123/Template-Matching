{
  "nbformat": 4,
  "nbformat_minor": 0,
  "metadata": {
    "colab": {
      "private_outputs": true,
      "provenance": []
    },
    "kernelspec": {
      "name": "python3",
      "display_name": "Python 3"
    },
    "language_info": {
      "name": "python"
    }
  },
  "cells": [
    {
      "cell_type": "code",
      "execution_count": null,
      "metadata": {
        "id": "PXIEYmUUXuLo"
      },
      "outputs": [],
      "source": [
        "import cv2\n",
        "import numpy as np\n",
        "import matplotlib.pyplot as plt"
      ]
    },
    {
      "cell_type": "code",
      "source": [
        "original = cv2.imread('/content/cat.jpg', 0)"
      ],
      "metadata": {
        "id": "o85zSs7EXxAn"
      },
      "execution_count": null,
      "outputs": []
    },
    {
      "cell_type": "code",
      "source": [
        "plt.imshow(original, cmap='gray')"
      ],
      "metadata": {
        "id": "2bdTO2rDXxDa"
      },
      "execution_count": null,
      "outputs": []
    },
    {
      "cell_type": "code",
      "source": [],
      "metadata": {
        "id": "0-xWPBJFXxLw"
      },
      "execution_count": null,
      "outputs": []
    },
    {
      "cell_type": "code",
      "source": [
        "templat = cv2.imread('/content/meomeo.png', 0)"
      ],
      "metadata": {
        "id": "0NEAJcoeaN4_"
      },
      "execution_count": null,
      "outputs": []
    },
    {
      "cell_type": "code",
      "source": [
        "templat"
      ],
      "metadata": {
        "id": "yf9m464slQ0B"
      },
      "execution_count": null,
      "outputs": []
    },
    {
      "cell_type": "code",
      "source": [
        "template= cv2.resize(templat, (55, 55))"
      ],
      "metadata": {
        "id": "YQszRwd_cgOS"
      },
      "execution_count": null,
      "outputs": []
    },
    {
      "cell_type": "code",
      "source": [
        "template"
      ],
      "metadata": {
        "id": "7BjPmA6LcgSp"
      },
      "execution_count": null,
      "outputs": []
    },
    {
      "cell_type": "code",
      "source": [],
      "metadata": {
        "id": "niHsuqp3cgVE"
      },
      "execution_count": null,
      "outputs": []
    },
    {
      "cell_type": "code",
      "source": [],
      "metadata": {
        "id": "mtJjyFF3aKoF"
      },
      "execution_count": null,
      "outputs": []
    },
    {
      "cell_type": "code",
      "source": [
        "# Edge detection\n",
        "def edge_detection(image):\n",
        "    # Apply Gaussian blur\n",
        "    blur = cv2.GaussianBlur(image, (5,5), 0)\n",
        "    # Apply Canny edge detection\n",
        "    edges = cv2.Canny(blur, 0, 50)\n",
        "    return edges"
      ],
      "metadata": {
        "id": "Ti9r3x2uaYyR"
      },
      "execution_count": null,
      "outputs": []
    },
    {
      "cell_type": "code",
      "source": [],
      "metadata": {
        "id": "ee2z5Wfja0ax"
      },
      "execution_count": null,
      "outputs": []
    },
    {
      "cell_type": "code",
      "source": [
        "template_edge= edge_detection(template)"
      ],
      "metadata": {
        "id": "OXYSB0Kua0dQ"
      },
      "execution_count": null,
      "outputs": []
    },
    {
      "cell_type": "code",
      "source": [
        "edge_detection(template)"
      ],
      "metadata": {
        "id": "QhlAqLOAaY3l"
      },
      "execution_count": null,
      "outputs": []
    },
    {
      "cell_type": "code",
      "source": [],
      "metadata": {
        "id": "DX8LI5qsavS8"
      },
      "execution_count": null,
      "outputs": []
    },
    {
      "cell_type": "code",
      "source": [
        "target_edges = edge_detection(original)"
      ],
      "metadata": {
        "id": "HOMdZUHiavVv"
      },
      "execution_count": null,
      "outputs": []
    },
    {
      "cell_type": "code",
      "source": [
        "target_edges"
      ],
      "metadata": {
        "id": "6-6TdjRsaKq9"
      },
      "execution_count": null,
      "outputs": []
    },
    {
      "cell_type": "code",
      "source": [],
      "metadata": {
        "id": "IxdpaOMzaKtl"
      },
      "execution_count": null,
      "outputs": []
    },
    {
      "cell_type": "code",
      "source": [],
      "metadata": {
        "id": "RuHXvS9vbsDP"
      },
      "execution_count": null,
      "outputs": []
    },
    {
      "cell_type": "code",
      "source": [
        "threshold = 0.2\n",
        "scale_factors = np.linspace(0.8, 1.4, 100).tolist()  # Scale factors for template resizing\n",
        "\n",
        "detections = []\n",
        "\n",
        "for scale in scale_factors:\n",
        "    # Resize the template for the current scale\n",
        "    scaled_template = cv2.resize(template_edge, None, fx=scale, fy=scale)\n",
        "\n",
        "    # Template matching\n",
        "    res = cv2.matchTemplate(target_edges, scaled_template, cv2.TM_CCOEFF_NORMED)\n",
        "\n",
        "    # Identify locations above the threshold\n",
        "    loc = np.where(res >= threshold)\n",
        "\n",
        "    for pt in zip(*loc[::-1]):\n",
        "        detections.append((pt[0], pt[1], scaled_template.shape[1], scaled_template.shape[0]))\n",
        "\n",
        "# Apply non-maximum suppression to avoid counting overlapping matches\n",
        "def non_max_suppression(detections, overlapThresh):\n",
        "    if len(detections) == 0:\n",
        "        return []\n",
        "\n",
        "    rects = np.array([[x, y, x + w, y + h] for (x, y, w, h) in detections])\n",
        "\n",
        "    # Initialize list of picked boxes\n",
        "    pick = []\n",
        "\n",
        "    x1 = rects[:, 0]\n",
        "    y1 = rects[:, 1]\n",
        "    x2 = rects[:, 2]\n",
        "    y2 = rects[:, 3]\n",
        "    area = (x2 - x1 + 1) * (y2 - y1 + 1)\n",
        "    idxs = np.argsort(y2)\n",
        "\n",
        "    while len(idxs) > 0:\n",
        "        last = len(idxs) - 1\n",
        "        i = idxs[last]\n",
        "        pick.append(i)\n",
        "\n",
        "        # Find overlap ratios\n",
        "        xx1 = np.maximum(x1[i], x1[idxs[:-1]])\n",
        "        yy1 = np.maximum(y1[i], y1[idxs[:-1]])\n",
        "        xx2 = np.minimum(x2[i], x2[idxs[:-1]])\n",
        "        yy2 = np.minimum(y2[i], y2[idxs[:-1]])\n",
        "\n",
        "        w = np.maximum(0, xx2 - xx1 + 1)\n",
        "        h = np.maximum(0, yy2 - yy1 + 1)\n",
        "        overlap = (w * h) / area[idxs[:-1]]\n",
        "\n",
        "        idxs = np.delete(idxs, np.concatenate(([last], np.where(overlap > overlapThresh)[0])))\n",
        "\n",
        "    return rects[pick].astype(int)\n",
        "\n",
        "final_detections = non_max_suppression(detections, overlapThresh=0.1)\n",
        "\n",
        "for (x1, y1, x2, y2) in final_detections:\n",
        "    cv2.rectangle(target_edges, (x1, y1), (x2, y2), (255, 0, 0), 2)\n",
        "\n",
        "print(f\"Number of matches: {len(final_detections)}\")\n",
        "\n",
        "cv2.imwrite('detected_matches.jpg', target_edges)"
      ],
      "metadata": {
        "id": "gyy9IlV6bjxb"
      },
      "execution_count": null,
      "outputs": []
    },
    {
      "cell_type": "code",
      "source": [
        "cv2.rectangle(target_edges, (x1, y1), (x2, y2), (255, 0, 0), 2)"
      ],
      "metadata": {
        "id": "jGTHKmqibj0H"
      },
      "execution_count": null,
      "outputs": []
    },
    {
      "cell_type": "code",
      "source": [],
      "metadata": {
        "id": "bhndXhhSbj3D"
      },
      "execution_count": null,
      "outputs": []
    },
    {
      "cell_type": "code",
      "source": [],
      "metadata": {
        "id": "hT2VXhPMffSQ"
      },
      "execution_count": null,
      "outputs": []
    },
    {
      "cell_type": "code",
      "source": [],
      "metadata": {
        "id": "zlmX8iYtffdg"
      },
      "execution_count": null,
      "outputs": []
    },
    {
      "cell_type": "code",
      "source": [
        "for (x1, y1, x2, y2) in final_detections:\n",
        "    cv2.rectangle(original, (x1, y1), (x2, y2), (0, 0, 0), 2)"
      ],
      "metadata": {
        "id": "B0GRKbGUbj_p"
      },
      "execution_count": null,
      "outputs": []
    },
    {
      "cell_type": "code",
      "source": [
        "cv2.rectangle(original, (x1, y1), (x2, y2), (0, 0, 0), 2)"
      ],
      "metadata": {
        "id": "vOs0uNnKbEY0"
      },
      "execution_count": null,
      "outputs": []
    },
    {
      "cell_type": "code",
      "source": [],
      "metadata": {
        "id": "cXwdEDwYfrTh"
      },
      "execution_count": null,
      "outputs": []
    },
    {
      "cell_type": "code",
      "source": [],
      "metadata": {
        "id": "XO2IHCPSfrWY"
      },
      "execution_count": null,
      "outputs": []
    }
  ]
}